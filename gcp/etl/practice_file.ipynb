{
 "cells": [
  {
   "cell_type": "code",
   "execution_count": 1,
   "metadata": {},
   "outputs": [],
   "source": [
    "import json"
   ]
  },
  {
   "cell_type": "code",
   "execution_count": null,
   "metadata": {},
   "outputs": [],
   "source": [
    "# job_titles = ['data+scientist', 'product+manager', 'data+analyst', 'full+stack+developer', 'frontend+developer', 'backend+developer', 'senior+developer',\n",
    "#               'ux+designer', 'ad+operations', 'human+resource', 'people+operations', 'technical+recruiter']\n",
    "# job_locations = ['New+York', 'Chicago', 'San+Francisco', 'Austin', 'Seattle',\n",
    "#                  'Los+Angeles', 'Philadelphia', 'Atlanta', 'Dallas', 'Pittsburgh',\n",
    "#                  'Portland', 'Phoenix', 'Denver', 'Houston', 'Miami',\n",
    "#                  'Charlottesville', 'Richmond', 'Baltimore', 'Harrisonburg', 'San+Antonio', 'San+Diego', 'San+Jose'\n",
    "#                  'Austin', 'Jacksonville', 'Indianapolis', 'Columbus', 'Fort+Worth', 'Charlotte', 'Detroit', 'El+Paso',\n",
    "#                  'Memphis', 'Boston', 'Nashville', 'Louisville', 'Milwaukee', 'Las+Vegas', 'Albuquerque', 'Tucson',\n",
    "#                  'Fresno', 'Sacramento', 'Long+Beach', 'Mesa', 'Virginia+Beach', 'Norfolk', 'Atlanta', 'Colorado+Springs',\n",
    "#                  'Raleigh', 'Omaha', 'Oakland', 'Tulsa', 'Minneapolis', 'Cleveland', 'Wichita', 'Arlington', 'New+Orleans',\n",
    "#                  'Bakersfield', 'Tampa', 'Honolulu', 'Anaheim', 'Aurora', 'Santa+Ana', 'Riverside', 'Corpus+Christi', 'Pittsburgh',\n",
    "#                  'Lexington', 'Anchorage', 'Cincinnati', 'Baton+Rouge', 'Chesapeake', 'Alexandria', 'Fairfax', 'Herndon',\n",
    "#                  'Reston', 'Roanoke']"
   ]
  },
  {
   "cell_type": "code",
   "execution_count": null,
   "metadata": {},
   "outputs": [],
   "source": [
    "{ \"titles\":\"'data+scientist'\", \n",
    "\"locations\":\"'New+York', 'Chicago', 'San+Francisco', 'Austin', 'Seattle','Los+Angeles', 'Philadelphia', 'Atlanta', 'Dallas', 'Pittsburgh','Portland', 'Phoenix', 'Denver', 'Houston', 'Miami','Charlottesville', 'Richmond', 'Baltimore', 'Harrisonburg', 'San+Antonio', 'San+Diego', 'San+Jose','Austin', 'Jacksonville', 'Indianapolis', 'Columbus', 'Fort+Worth', 'Charlotte', 'Detroit', 'El+Paso','Memphis', 'Boston', 'Nashville', 'Louisville', 'Milwaukee', 'Las+Vegas', 'Albuquerque', 'Tucson','Fresno', 'Sacramento', 'Long+Beach', 'Mesa', 'Virginia+Beach', 'Norfolk', 'Atlanta', 'Colorado+Springs','Raleigh', 'Omaha', 'Oakland', 'Tulsa', 'Minneapolis', 'Cleveland', 'Wichita', 'Arlington', 'New+Orleans','Bakersfield', 'Tampa', 'Honolulu', 'Anaheim', 'Aurora', 'Santa+Ana', 'Riverside', 'Corpus+Christi', 'Pittsburgh','Lexington', 'Anchorage', 'Cincinnati', 'Baton+Rouge', 'Chesapeake', 'Alexandria', 'Fairfax', 'Herndon','Reston', 'Roanoke'\"}"
   ]
  },
  {
   "cell_type": "code",
   "execution_count": 2,
   "metadata": {},
   "outputs": [],
   "source": [
    "x = '''\n",
    "{ \"titles\":\"'data+scientist', 'product+manager', 'data+analyst', 'full+stack+developer'\", \n",
    "\"locations\":\"'New+York', 'Chicago', 'San+Francisco', 'Austin', 'Seattle'\"}\n",
    "'''\n",
    "y = json.loads(x)\n"
   ]
  },
  {
   "cell_type": "code",
   "execution_count": 3,
   "metadata": {},
   "outputs": [
    {
     "data": {
      "text/plain": [
       "\"'data+scientist', 'product+manager', 'data+analyst', 'full+stack+developer'\""
      ]
     },
     "execution_count": 3,
     "metadata": {},
     "output_type": "execute_result"
    }
   ],
   "source": [
    "y['titles']"
   ]
  },
  {
   "cell_type": "code",
   "execution_count": null,
   "metadata": {},
   "outputs": [],
   "source": []
  },
  {
   "cell_type": "code",
   "execution_count": 6,
   "metadata": {},
   "outputs": [],
   "source": [
    "my_titles = y['titles']"
   ]
  },
  {
   "cell_type": "code",
   "execution_count": 13,
   "metadata": {},
   "outputs": [],
   "source": [
    "def string_to_array(input_string):\n",
    "    input_string = input_string.replace(\"'\", \"\")\n",
    "    input_string = input_string.replace(\" \", \"\")\n",
    "    array = input_string.split(',')\n",
    "    return array"
   ]
  },
  {
   "cell_type": "code",
   "execution_count": 7,
   "metadata": {},
   "outputs": [],
   "source": [
    "titles_split = my_titles.split(',')"
   ]
  },
  {
   "cell_type": "code",
   "execution_count": 14,
   "metadata": {},
   "outputs": [
    {
     "data": {
      "text/plain": [
       "['data+scientist', 'product+manager', 'data+analyst', 'full+stack+developer']"
      ]
     },
     "execution_count": 14,
     "metadata": {},
     "output_type": "execute_result"
    }
   ],
   "source": [
    "string_to_array(my_titles)"
   ]
  },
  {
   "cell_type": "code",
   "execution_count": null,
   "metadata": {},
   "outputs": [],
   "source": []
  },
  {
   "cell_type": "code",
   "execution_count": 12,
   "metadata": {},
   "outputs": [
    {
     "data": {
      "text/plain": [
       "\" 'product+manager'\""
      ]
     },
     "execution_count": 12,
     "metadata": {},
     "output_type": "execute_result"
    }
   ],
   "source": [
    "titles_split[1]"
   ]
  },
  {
   "cell_type": "markdown",
   "metadata": {},
   "source": [
    "testing for scraping desc"
   ]
  },
  {
   "cell_type": "code",
   "execution_count": 10,
   "metadata": {},
   "outputs": [],
   "source": [
    "import pandas as pd\n",
    "from bs4 import BeautifulSoup\n",
    "import urllib.request\n",
    "import os"
   ]
  },
  {
   "cell_type": "code",
   "execution_count": 4,
   "metadata": {},
   "outputs": [],
   "source": [
    "gcp_creds_path = '/Users/jason/Documents/Jason/JobMatch/job-match-271401-74d3c9eb9112.json'\n",
    "if os.path.exists(gcp_creds_path):\n",
    "    os.environ['GOOGLE_APPLICATION_CREDENTIALS'] = r'/Users/jason/Documents/Jason/JobMatch/job-match-271401-74d3c9eb9112.json'\n"
   ]
  },
  {
   "cell_type": "code",
   "execution_count": 5,
   "metadata": {},
   "outputs": [],
   "source": [
    "def retrieve_job_id():\n",
    "    query_string = \"\"\"\n",
    "    select job_id from job_search.job_id_new_list\n",
    "    where rand()<0.01\n",
    "    \"\"\"\n",
    "    df = pd.read_gbq(query=query_string)\n",
    "    return df.job_id.to_list()"
   ]
  },
  {
   "cell_type": "code",
   "execution_count": 7,
   "metadata": {},
   "outputs": [],
   "source": [
    "job_id_list = retrieve_job_id()"
   ]
  },
  {
   "cell_type": "code",
   "execution_count": 58,
   "metadata": {},
   "outputs": [
    {
     "name": "stdout",
     "output_type": "stream",
     "text": [
      "['6d586780527053ab', '581f50ab2fede116', '0df2ed6c2e9091dd', 'bab99076d283689e', 'c44840d45fcc3cbc', 'fd5ea40084f3df50', 'f95acb6b349f6c47', '48733e0cbbe3a3c1', '795ddfef2d64d216', 'b4ddf1f7d619844b', 'a776c025806cd15e', 'e1917a2ed06b5093', '88fae09dc9c3fec1', '981eadb0ccee3d89', '672893edabfe28f8', '2ce17363534db3e0', '809962b76072a168', '91f822f90c3e42a6', 'fa35da91d4daeb64', '5a3a20d68f09f500', 'aa762320428ae983', 'c228cbb077b5b43f', '079731e40d0b8b5a', '56fb2abc4b695574', '2786ff757f89b4aa', '3fb40da282dd622d', 'd2897daefbb3e923', '418d320dc827ea32', '4e9ea82c1dedad71', '769b97ba3a84a811', '0b47a53ff48c7faa', '2faa6b47dbff9841', 'f16fca2afdc39fa4', '00abd425f71703a7', 'e6d8789ac3a0447e', 'fbc6086056d7e958', 'e956731c8a770d42', 'ae7f87b811b0f522', 'dea6a13afd475fd8', '3e23aaa900feddf5', '1b068b66b60bf7c3']\n"
     ]
    }
   ],
   "source": [
    "print(job_id_list)"
   ]
  },
  {
   "cell_type": "code",
   "execution_count": 64,
   "metadata": {},
   "outputs": [],
   "source": [
    "job_id = job_id_list[5]\n",
    "job_desc_url = 'https://www.indeed.com/viewjob?jk='+job_id\n",
    "soup = BeautifulSoup(urllib.request.urlopen(job_desc_url).read(), 'html.parser')"
   ]
  },
  {
   "cell_type": "code",
   "execution_count": 66,
   "metadata": {},
   "outputs": [],
   "source": [
    "job_desc = soup.find('div', attrs={'class': 'jobsearch-jobDescriptionText'})"
   ]
  },
  {
   "cell_type": "code",
   "execution_count": 65,
   "metadata": {},
   "outputs": [
    {
     "data": {
      "text/plain": [
       "'Toyota'"
      ]
     },
     "execution_count": 65,
     "metadata": {},
     "output_type": "execute_result"
    }
   ],
   "source": [
    "company_name = soup.find('a', attrs={\"class\":\"jobsearch-CompanyAvatar-companyLink\"})\n",
    "company_name.text.strip()"
   ]
  },
  {
   "cell_type": "code",
   "execution_count": 67,
   "metadata": {},
   "outputs": [
    {
     "name": "stdout",
     "output_type": "stream",
     "text": [
      "<div class=\"jobsearch-jobDescriptionText\" id=\"jobDescriptionText\"><div><p><b>Who we are</b><b>\n",
      "</b></p><p>Collaborative. Respectful. A place to dream and do. These are just a few words that describe what life is like at Toyota. As one of the world?s most admired brands, Toyota is growing and leading the future of mobility through innovative, high-quality solutions designed to enhance lives and delight those we serve. We?re looking for diverse, talented team members who want to Dream. Do. Grow. with us.\n",
      "</p><p></p><p><b>Who we?re looking for\n",
      "</b></p><p>The leader of the Business Analytics team helps set Sales revenue growth strategy, and leads informed decision making through holistic, thoughtful analytics. Finds and implements revenue and profit generating opportunities within Marketing, Remarketing, and the Sales departments. Drives optimization through an informed and consultative approach in a fast paced and constantly evolving environment. Develops talent and leads a team across HQ and the Field.</p><p>\n",
      "</p><p>Reporting to the General Manager ? Finance &amp; Business Analytics the person in this role will support the department's objective.</p><p>\n",
      "</p><p><b>What you?ll be doing\n",
      "</b></p><p>The Sr. Manager, Business Analytics is responsible for the following critical functions:</p><ul><li>\n",
      "Partner with the Sales Leadership team on setting cross-segment revenue growth strategy</li><li>\n",
      "Identify strategy goals, tracking pace and areas of risk and opportunities</li><li>\n",
      "Identify opportunities within the Sales organization to deliver revenue generation, cost savings, customer and/or employee satisfaction improvements as specified by the business</li><li>\n",
      "Lead Sales reporting and analysis team to enable data-driven decision making</li><li>\n",
      "Produce weekly and monthly reports, consolidate, and validate data</li><li>\n",
      "Consolidate reporting intra-department finding synergies within reporting efforts and analytics within Sales</li><li>\n",
      "Provide leadership in developing best practices for analyzing segment and customer performance\n",
      "</li><li>Lead team efforts to build and automate management dashboards and other reporting tools that can be utilized across the Sales organization, shared with other departments as well as the Management team</li><li>\n",
      "Develop Sales pipeline performance reporting and analysis</li><li>\n",
      "Lead ad hoc projects to better understand customer behavior across all Sales segments</li><li>\n",
      "Manage efforts to align data between Sales, Revenue Management, Marketing and Finance groups</li><li>\n",
      "Build and maintain a strong relationship with the business leadership team</li><li>\n",
      "Become established as a recognized subject matter expert on all Sales segments and customers</li><li>\n",
      "Serve as a resource to the business, facilitating knowledge transfer and overseeing proper application of continuous improvement methodology and tools</li><li>\n",
      "Demonstrate end-to-end process perspective, providing data collection, analysis and thorough documentation of processes</li><li>\n",
      "Develop vision and set overall strategy to lead the enterprise towards achieving strategic goals. The Senior Leader will help set the course on the crafting of a strategy to ensure execution is done in a timely and appropriate level.</li><li><p>\n",
      "Lead a large and diverse team in the areas of technical, interpersonal, and financial acumen. The crafting of a team member development plan that includes organizational design and alignment of skillsets and career aspirations.</p></li><li><p>\n",
      "Taking the lead on driving and could outcomes that impact company performance. This includes. This includes gathering internal and external benchmarking to contextualize and drive the desired outcome</p></li><li><p>\n",
      "Attention to detail and provide accurate data</p></li><li>\n",
      "Work collaboratively with team members</li><li>\n",
      "Meet regular performance expectations</li><li>\n",
      "Ability to maintain regular and predictable attendance to support team and business objectives.</li><li>\n",
      "Capability to work flexible hours, which may include day, evening and weekend hours.</li><li>\n",
      "Ability to be at work on time, to return from breaks and lunch periods on time and to leave the work area after the end of their scheduled workday (applicable to jobs subject to attendance policy)</li></ul><p></p><div>\n",
      "<div><b>What you bring\n",
      "</b></div><ul><li>Bachelor?s degree; Bachelor of Arts or Bachelor of Science and Advanced Degree in Accounting</li>\n",
      "<li>10+ years of relevant work experience (in similar field and/or industry]</li>\n",
      "<li><p>Thought leadership and ability to influence outcomes\n",
      "</p></li><li><p>Written and oral communication\n",
      "</p></li><li><p>Strong analytical skills, initiative; ability to multi-task</p>\n",
      "</li><li><p>Consultative style with key constituents</p>\n",
      "</li></ul><div><b>What we?ll bring</b></div>\n",
      "<p>During your interview process, our team can fill you in on all the details of our industry-leading benefits and career development opportunities. A few highlights include:</p>\n",
      "<ul><li>A work environment built on teamwork, flexibility and respect</li>\n",
      "<li><p>Professional growth and development programs to help advance your career, as well as tuition reimbursement</p>\n",
      "</li><li><p>Vehicle purchase &amp; lease programs\n",
      "</p></li><li><p>Comprehensive health care and wellness plans for your entire family</p>\n",
      "</li><li><p>Flextime and virtual work options (if applicable)</p>\n",
      "</li><li><p>Toyota 401(k) Savings Plan featuring a company match, as well as an annual retirement contribution from Toyota regardless of whether you contribute</p>\n",
      "</li><li><p>Paid holidays and paid time off</p>\n",
      "</li><li><p>Referral services related to prenatal services, adoption, child care, schools and more</p>\n",
      "</li><li><p>Flexible spending accounts</p>\n",
      "</li><li><p>Relocation assistance (if applicable)</p>\n",
      "</li></ul><div><b>What you should know</b></div>\n",
      "<p>Our success begins and ends with our people. We embrace diverse perspectives and value unique human experiences. We are proud to be an equal opportunity employer that celebrates the diversity of the communities where we live and do business. Applicants for our positions are considered without regard to race, ethnicity, national origin, sex, sexual orientation, gender identity or expression, age, disability, religion, military or veteran status, or any other characteristics protected by law.</p>\n",
      "<div></div><p>Have a question or need assistance with your application? Check out the How to Apply section of our careers page on Toyota.com</p>\n",
      "<p><i>To save time applying, Toyota does not offer sponsorship of job applicants for employment-based visas or any other work authorization for this position at this time</i></p><p>\n",
      "#LI-TMNA</p></div></div></div>\n"
     ]
    }
   ],
   "source": [
    "print(job_desc)"
   ]
  },
  {
   "cell_type": "code",
   "execution_count": 68,
   "metadata": {},
   "outputs": [
    {
     "name": "stdout",
     "output_type": "stream",
     "text": [
      "Who we are\n",
      "Collaborative. Respectful. A place to dream and do. These are just a few words that describe what life is like at Toyota. As one of the world?s most admired brands, Toyota is growing and leading the future of mobility through innovative, high-quality solutions designed to enhance lives and delight those we serve. We?re looking for diverse, talented team members who want to Dream. Do. Grow. with us.\n",
      "Who we?re looking for\n",
      "The leader of the Business Analytics team helps set Sales revenue growth strategy, and leads informed decision making through holistic, thoughtful analytics. Finds and implements revenue and profit generating opportunities within Marketing, Remarketing, and the Sales departments. Drives optimization through an informed and consultative approach in a fast paced and constantly evolving environment. Develops talent and leads a team across HQ and the Field.\n",
      "Reporting to the General Manager ? Finance & Business Analytics the person in this role will support the department's objective.\n",
      "What you?ll be doing\n",
      "The Sr. Manager, Business Analytics is responsible for the following critical functions:\n",
      "Partner with the Sales Leadership team on setting cross-segment revenue growth strategy\n",
      "Identify strategy goals, tracking pace and areas of risk and opportunities\n",
      "Identify opportunities within the Sales organization to deliver revenue generation, cost savings, customer and/or employee satisfaction improvements as specified by the business\n",
      "Lead Sales reporting and analysis team to enable data-driven decision making\n",
      "Produce weekly and monthly reports, consolidate, and validate data\n",
      "Consolidate reporting intra-department finding synergies within reporting efforts and analytics within Sales\n",
      "Provide leadership in developing best practices for analyzing segment and customer performance\n",
      "Lead team efforts to build and automate management dashboards and other reporting tools that can be utilized across the Sales organization, shared with other departments as well as the Management team\n",
      "Develop Sales pipeline performance reporting and analysis\n",
      "Lead ad hoc projects to better understand customer behavior across all Sales segments\n",
      "Manage efforts to align data between Sales, Revenue Management, Marketing and Finance groups\n",
      "Build and maintain a strong relationship with the business leadership team\n",
      "Become established as a recognized subject matter expert on all Sales segments and customers\n",
      "Serve as a resource to the business, facilitating knowledge transfer and overseeing proper application of continuous improvement methodology and tools\n",
      "Demonstrate end-to-end process perspective, providing data collection, analysis and thorough documentation of processes\n",
      "Develop vision and set overall strategy to lead the enterprise towards achieving strategic goals. The Senior Leader will help set the course on the crafting of a strategy to ensure execution is done in a timely and appropriate level.\n",
      "Lead a large and diverse team in the areas of technical, interpersonal, and financial acumen. The crafting of a team member development plan that includes organizational design and alignment of skillsets and career aspirations.\n",
      "Taking the lead on driving and could outcomes that impact company performance. This includes. This includes gathering internal and external benchmarking to contextualize and drive the desired outcome\n",
      "Attention to detail and provide accurate data\n",
      "Work collaboratively with team members\n",
      "Meet regular performance expectations\n",
      "Ability to maintain regular and predictable attendance to support team and business objectives.\n",
      "Capability to work flexible hours, which may include day, evening and weekend hours.\n",
      "Ability to be at work on time, to return from breaks and lunch periods on time and to leave the work area after the end of their scheduled workday (applicable to jobs subject to attendance policy)\n",
      "What you bring\n",
      "Bachelor?s degree; Bachelor of Arts or Bachelor of Science and Advanced Degree in Accounting\n",
      "10+ years of relevant work experience (in similar field and/or industry]\n",
      "Thought leadership and ability to influence outcomes\n",
      "Written and oral communication\n",
      "Strong analytical skills, initiative; ability to multi-task\n",
      "Consultative style with key constituents\n",
      "What we?ll bring\n",
      "During your interview process, our team can fill you in on all the details of our industry-leading benefits and career development opportunities. A few highlights include:\n",
      "A work environment built on teamwork, flexibility and respect\n",
      "Professional growth and development programs to help advance your career, as well as tuition reimbursement\n",
      "Vehicle purchase & lease programs\n",
      "Comprehensive health care and wellness plans for your entire family\n",
      "Flextime and virtual work options (if applicable)\n",
      "Toyota 401(k) Savings Plan featuring a company match, as well as an annual retirement contribution from Toyota regardless of whether you contribute\n",
      "Paid holidays and paid time off\n",
      "Referral services related to prenatal services, adoption, child care, schools and more\n",
      "Flexible spending accounts\n",
      "Relocation assistance (if applicable)\n",
      "What you should know\n",
      "Our success begins and ends with our people. We embrace diverse perspectives and value unique human experiences. We are proud to be an equal opportunity employer that celebrates the diversity of the communities where we live and do business. Applicants for our positions are considered without regard to race, ethnicity, national origin, sex, sexual orientation, gender identity or expression, age, disability, religion, military or veteran status, or any other characteristics protected by law.\n",
      "Have a question or need assistance with your application? Check out the How to Apply section of our careers page on Toyota.com\n",
      "To save time applying, Toyota does not offer sponsorship of job applicants for employment-based visas or any other work authorization for this position at this time\n",
      "#LI-TMNA\n"
     ]
    }
   ],
   "source": [
    "print(job_desc.text.strip())"
   ]
  },
  {
   "cell_type": "code",
   "execution_count": 72,
   "metadata": {},
   "outputs": [
    {
     "data": {
      "text/plain": [
       "[<li>\n",
       " Partner with the Sales Leadership team on setting cross-segment revenue growth strategy</li>,\n",
       " <li>\n",
       " Identify strategy goals, tracking pace and areas of risk and opportunities</li>,\n",
       " <li>\n",
       " Identify opportunities within the Sales organization to deliver revenue generation, cost savings, customer and/or employee satisfaction improvements as specified by the business</li>,\n",
       " <li>\n",
       " Lead Sales reporting and analysis team to enable data-driven decision making</li>,\n",
       " <li>\n",
       " Produce weekly and monthly reports, consolidate, and validate data</li>,\n",
       " <li>\n",
       " Consolidate reporting intra-department finding synergies within reporting efforts and analytics within Sales</li>,\n",
       " <li>\n",
       " Provide leadership in developing best practices for analyzing segment and customer performance\n",
       " </li>,\n",
       " <li>Lead team efforts to build and automate management dashboards and other reporting tools that can be utilized across the Sales organization, shared with other departments as well as the Management team</li>,\n",
       " <li>\n",
       " Develop Sales pipeline performance reporting and analysis</li>,\n",
       " <li>\n",
       " Lead ad hoc projects to better understand customer behavior across all Sales segments</li>,\n",
       " <li>\n",
       " Manage efforts to align data between Sales, Revenue Management, Marketing and Finance groups</li>,\n",
       " <li>\n",
       " Build and maintain a strong relationship with the business leadership team</li>,\n",
       " <li>\n",
       " Become established as a recognized subject matter expert on all Sales segments and customers</li>,\n",
       " <li>\n",
       " Serve as a resource to the business, facilitating knowledge transfer and overseeing proper application of continuous improvement methodology and tools</li>,\n",
       " <li>\n",
       " Demonstrate end-to-end process perspective, providing data collection, analysis and thorough documentation of processes</li>,\n",
       " <li>\n",
       " Develop vision and set overall strategy to lead the enterprise towards achieving strategic goals. The Senior Leader will help set the course on the crafting of a strategy to ensure execution is done in a timely and appropriate level.</li>,\n",
       " <li><p>\n",
       " Lead a large and diverse team in the areas of technical, interpersonal, and financial acumen. The crafting of a team member development plan that includes organizational design and alignment of skillsets and career aspirations.</p></li>,\n",
       " <li><p>\n",
       " Taking the lead on driving and could outcomes that impact company performance. This includes. This includes gathering internal and external benchmarking to contextualize and drive the desired outcome</p></li>,\n",
       " <li><p>\n",
       " Attention to detail and provide accurate data</p></li>,\n",
       " <li>\n",
       " Work collaboratively with team members</li>,\n",
       " <li>\n",
       " Meet regular performance expectations</li>,\n",
       " <li>\n",
       " Ability to maintain regular and predictable attendance to support team and business objectives.</li>,\n",
       " <li>\n",
       " Capability to work flexible hours, which may include day, evening and weekend hours.</li>,\n",
       " <li>\n",
       " Ability to be at work on time, to return from breaks and lunch periods on time and to leave the work area after the end of their scheduled workday (applicable to jobs subject to attendance policy)</li>,\n",
       " <li>Bachelor?s degree; Bachelor of Arts or Bachelor of Science and Advanced Degree in Accounting</li>,\n",
       " <li>10+ years of relevant work experience (in similar field and/or industry]</li>,\n",
       " <li><p>Thought leadership and ability to influence outcomes\n",
       " </p></li>,\n",
       " <li><p>Written and oral communication\n",
       " </p></li>,\n",
       " <li><p>Strong analytical skills, initiative; ability to multi-task</p>\n",
       " </li>,\n",
       " <li><p>Consultative style with key constituents</p>\n",
       " </li>,\n",
       " <li>A work environment built on teamwork, flexibility and respect</li>,\n",
       " <li><p>Professional growth and development programs to help advance your career, as well as tuition reimbursement</p>\n",
       " </li>,\n",
       " <li><p>Vehicle purchase &amp; lease programs\n",
       " </p></li>,\n",
       " <li><p>Comprehensive health care and wellness plans for your entire family</p>\n",
       " </li>,\n",
       " <li><p>Flextime and virtual work options (if applicable)</p>\n",
       " </li>,\n",
       " <li><p>Toyota 401(k) Savings Plan featuring a company match, as well as an annual retirement contribution from Toyota regardless of whether you contribute</p>\n",
       " </li>,\n",
       " <li><p>Paid holidays and paid time off</p>\n",
       " </li>,\n",
       " <li><p>Referral services related to prenatal services, adoption, child care, schools and more</p>\n",
       " </li>,\n",
       " <li><p>Flexible spending accounts</p>\n",
       " </li>,\n",
       " <li><p>Relocation assistance (if applicable)</p>\n",
       " </li>]"
      ]
     },
     "execution_count": 72,
     "metadata": {},
     "output_type": "execute_result"
    }
   ],
   "source": [
    "job_desc.find_all('li')"
   ]
  },
  {
   "cell_type": "code",
   "execution_count": null,
   "metadata": {},
   "outputs": [],
   "source": [
    "\n",
    "In [8]:\n",
    "\n",
    "URL = \"https://www.indeed.com/jobs?q=data+scientist+%2420%2C000&l=New+York&start=10&sort=date\"    \n",
    "\n",
    "soup = BeautifulSoup(urllib.request.urlopen(URL).read(), 'html.parser')\n",
    "\n",
    "results = soup.find_all('div', attrs={'data-tn-component': 'organicJob'})\n",
    "\n",
    "for x in results:\n",
    "\n",
    "    company = x.find('span', attrs={\"class\":\"company\"})\n",
    "    if company:\n",
    "        print('company:', company.text.strip() )\n",
    "\n",
    "    job = x.find('a', attrs={'data-tn-element': \"jobTitle\"})\n",
    "    if job:\n",
    "        print('job:', job.text.strip())\n",
    "    \n",
    "    job_location = x.find('span',{'class':\"location\"}).text.replace('\\n', '')\n",
    "    if job_location:\n",
    "        print('location:', job_location)\n",
    "    \n",
    "    job_id = x.find('a').get('id')\n",
    "    if job_id:\n",
    "        print('job_id:',job_id)\n",
    "        print('job_id:',job_id[3:])\n",
    "        print('https://www.indeed.com/viewjob?jk='+job_id[3:])\n",
    "        job_url='https://www.indeed.com/viewjob?jk='+job_id[3:]\n",
    "        job_soup = BeautifulSoup(urllib.request.urlopen(job_url).read(), 'html.parser')\n",
    "        job_desc = job_soup.find_all('div', attrs={'class': 'jobsearch-jobDescriptionText'})\n",
    "        print(job_desc)\n",
    "\n",
    "    salary = x.find('nobr')\n",
    "    if salary:\n",
    "        print('salary:', salary.text.strip())\n",
    "\n",
    "    print ('----------')\n",
    "\n"
   ]
  }
 ],
 "metadata": {
  "kernelspec": {
   "display_name": "Python 3",
   "language": "python",
   "name": "python3"
  },
  "language_info": {
   "codemirror_mode": {
    "name": "ipython",
    "version": 3
   },
   "file_extension": ".py",
   "mimetype": "text/x-python",
   "name": "python",
   "nbconvert_exporter": "python",
   "pygments_lexer": "ipython3",
   "version": "3.8.1"
  }
 },
 "nbformat": 4,
 "nbformat_minor": 2
}
