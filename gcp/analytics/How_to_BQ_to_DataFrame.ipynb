{
 "cells": [
  {
   "cell_type": "code",
   "execution_count": 9,
   "metadata": {},
   "outputs": [],
   "source": [
    "from google.cloud import bigquery\n",
    "import os"
   ]
  },
  {
   "cell_type": "markdown",
   "metadata": {},
   "source": [
    "Provide BigQuery Credentials"
   ]
  },
  {
   "cell_type": "code",
   "execution_count": 10,
   "metadata": {},
   "outputs": [],
   "source": [
    "os.environ['GOOGLE_APPLICATION_CREDENTIALS'] = r'/Users/jason/Documents/Jason/JobMatch/job-match-271401-74d3c9eb9112.json'"
   ]
  },
  {
   "cell_type": "markdown",
   "metadata": {},
   "source": [
    "Construct BigQuery Query to retrieve data"
   ]
  },
  {
   "cell_type": "code",
   "execution_count": 11,
   "metadata": {},
   "outputs": [],
   "source": [
    "query = \"\"\"\n",
    "select *\n",
    "from job_search.job_search20200317\n",
    "\"\"\""
   ]
  },
  {
   "cell_type": "markdown",
   "metadata": {},
   "source": [
    "Instantiate and retrieve query results to a dataframe"
   ]
  },
  {
   "cell_type": "code",
   "execution_count": 13,
   "metadata": {},
   "outputs": [],
   "source": [
    "bq_client = bigquery.Client()\n",
    "df = bq_client.query(query).result().to_dataframe()"
   ]
  },
  {
   "cell_type": "code",
   "execution_count": 14,
   "metadata": {},
   "outputs": [
    {
     "data": {
      "text/html": [
       "<div>\n",
       "<style scoped>\n",
       "    .dataframe tbody tr th:only-of-type {\n",
       "        vertical-align: middle;\n",
       "    }\n",
       "\n",
       "    .dataframe tbody tr th {\n",
       "        vertical-align: top;\n",
       "    }\n",
       "\n",
       "    .dataframe thead th {\n",
       "        text-align: right;\n",
       "    }\n",
       "</style>\n",
       "<table border=\"1\" class=\"dataframe\">\n",
       "  <thead>\n",
       "    <tr style=\"text-align: right;\">\n",
       "      <th></th>\n",
       "      <th>search_date</th>\n",
       "      <th>search_title</th>\n",
       "      <th>search_location</th>\n",
       "      <th>title</th>\n",
       "      <th>location</th>\n",
       "      <th>company</th>\n",
       "      <th>salary</th>\n",
       "      <th>job_id</th>\n",
       "      <th>job_url</th>\n",
       "    </tr>\n",
       "  </thead>\n",
       "  <tbody>\n",
       "    <tr>\n",
       "      <th>0</th>\n",
       "      <td>20200317</td>\n",
       "      <td>technical+recruiter</td>\n",
       "      <td>Charlottesville</td>\n",
       "      <td>Accountant</td>\n",
       "      <td>Ivy, VA</td>\n",
       "      <td>The Rector &amp; Visitors of the University of Vir...</td>\n",
       "      <td>None</td>\n",
       "      <td>2877be42c050006e</td>\n",
       "      <td>https://www.indeed.com/viewjob?jk=2877be42c050...</td>\n",
       "    </tr>\n",
       "    <tr>\n",
       "      <th>1</th>\n",
       "      <td>20200317</td>\n",
       "      <td>technical+recruiter</td>\n",
       "      <td>Charlottesville</td>\n",
       "      <td>Systems Integration Specialist</td>\n",
       "      <td>Ivy, VA</td>\n",
       "      <td>The Rector &amp; Visitors of the University of Vir...</td>\n",
       "      <td>None</td>\n",
       "      <td>68c6c4199e155191</td>\n",
       "      <td>https://www.indeed.com/viewjob?jk=68c6c4199e15...</td>\n",
       "    </tr>\n",
       "    <tr>\n",
       "      <th>2</th>\n",
       "      <td>20200317</td>\n",
       "      <td>backend+developer</td>\n",
       "      <td>Riverside</td>\n",
       "      <td>Jr. C# Developer</td>\n",
       "      <td>RSM, CA</td>\n",
       "      <td>Melissa Global Intelligence</td>\n",
       "      <td>None</td>\n",
       "      <td>1b59293984a1abe2</td>\n",
       "      <td>https://www.indeed.com/viewjob?jk=1b59293984a1...</td>\n",
       "    </tr>\n",
       "    <tr>\n",
       "      <th>3</th>\n",
       "      <td>20200317</td>\n",
       "      <td>data+analyst</td>\n",
       "      <td>Santa+Ana</td>\n",
       "      <td>Data Analyst</td>\n",
       "      <td>Brea, CA</td>\n",
       "      <td>NS and Associates</td>\n",
       "      <td>None</td>\n",
       "      <td>ab8c598f0d1b58d9</td>\n",
       "      <td>https://www.indeed.com/viewjob?jk=ab8c598f0d1b...</td>\n",
       "    </tr>\n",
       "    <tr>\n",
       "      <th>4</th>\n",
       "      <td>20200317</td>\n",
       "      <td>product+manager</td>\n",
       "      <td>Raleigh</td>\n",
       "      <td>Product Manager - Retail Industry Solutions</td>\n",
       "      <td>Cary, NC</td>\n",
       "      <td>SAS Institute Inc</td>\n",
       "      <td>None</td>\n",
       "      <td>7c1c271501c15273</td>\n",
       "      <td>https://www.indeed.com/viewjob?jk=7c1c271501c1...</td>\n",
       "    </tr>\n",
       "  </tbody>\n",
       "</table>\n",
       "</div>"
      ],
      "text/plain": [
       "  search_date         search_title  search_location  \\\n",
       "0    20200317  technical+recruiter  Charlottesville   \n",
       "1    20200317  technical+recruiter  Charlottesville   \n",
       "2    20200317    backend+developer        Riverside   \n",
       "3    20200317         data+analyst        Santa+Ana   \n",
       "4    20200317      product+manager          Raleigh   \n",
       "\n",
       "                                         title  location  \\\n",
       "0                                   Accountant   Ivy, VA   \n",
       "1               Systems Integration Specialist   Ivy, VA   \n",
       "2                             Jr. C# Developer   RSM, CA   \n",
       "3                                 Data Analyst  Brea, CA   \n",
       "4  Product Manager - Retail Industry Solutions  Cary, NC   \n",
       "\n",
       "                                             company salary            job_id  \\\n",
       "0  The Rector & Visitors of the University of Vir...   None  2877be42c050006e   \n",
       "1  The Rector & Visitors of the University of Vir...   None  68c6c4199e155191   \n",
       "2                        Melissa Global Intelligence   None  1b59293984a1abe2   \n",
       "3                                  NS and Associates   None  ab8c598f0d1b58d9   \n",
       "4                                  SAS Institute Inc   None  7c1c271501c15273   \n",
       "\n",
       "                                             job_url  \n",
       "0  https://www.indeed.com/viewjob?jk=2877be42c050...  \n",
       "1  https://www.indeed.com/viewjob?jk=68c6c4199e15...  \n",
       "2  https://www.indeed.com/viewjob?jk=1b59293984a1...  \n",
       "3  https://www.indeed.com/viewjob?jk=ab8c598f0d1b...  \n",
       "4  https://www.indeed.com/viewjob?jk=7c1c271501c1...  "
      ]
     },
     "execution_count": 14,
     "metadata": {},
     "output_type": "execute_result"
    }
   ],
   "source": [
    "df.head()"
   ]
  },
  {
   "cell_type": "code",
   "execution_count": null,
   "metadata": {},
   "outputs": [],
   "source": []
  }
 ],
 "metadata": {
  "kernelspec": {
   "display_name": "Python 3",
   "language": "python",
   "name": "python3"
  },
  "language_info": {
   "codemirror_mode": {
    "name": "ipython",
    "version": 3
   },
   "file_extension": ".py",
   "mimetype": "text/x-python",
   "name": "python",
   "nbconvert_exporter": "python",
   "pygments_lexer": "ipython3",
   "version": "3.8.1"
  }
 },
 "nbformat": 4,
 "nbformat_minor": 4
}
